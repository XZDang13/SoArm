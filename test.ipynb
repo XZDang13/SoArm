{
 "cells": [
  {
   "cell_type": "code",
   "execution_count": 1,
   "id": "ad915984",
   "metadata": {},
   "outputs": [],
   "source": [
    "import torch"
   ]
  },
  {
   "cell_type": "code",
   "execution_count": 2,
   "id": "1d461a2f",
   "metadata": {},
   "outputs": [],
   "source": [
    "x = torch.rand(10, 3)\n",
    "y = torch.rand_like(x)"
   ]
  },
  {
   "cell_type": "code",
   "execution_count": 3,
   "id": "dbf45ed2",
   "metadata": {},
   "outputs": [
    {
     "data": {
      "text/plain": [
       "tensor([0.8447, 0.4395, 1.0602, 0.5345, 0.9569, 0.3925, 0.5120, 0.5812, 0.7697,\n",
       "        0.6050])"
      ]
     },
     "execution_count": 3,
     "metadata": {},
     "output_type": "execute_result"
    }
   ],
   "source": [
    "torch.norm(x-y, p=2, dim=-1)"
   ]
  },
  {
   "cell_type": "code",
   "execution_count": null,
   "id": "40118e32",
   "metadata": {},
   "outputs": [],
   "source": []
  }
 ],
 "metadata": {
  "kernelspec": {
   "display_name": "isaaclab",
   "language": "python",
   "name": "python3"
  },
  "language_info": {
   "codemirror_mode": {
    "name": "ipython",
    "version": 3
   },
   "file_extension": ".py",
   "mimetype": "text/x-python",
   "name": "python",
   "nbconvert_exporter": "python",
   "pygments_lexer": "ipython3",
   "version": "3.11.13"
  }
 },
 "nbformat": 4,
 "nbformat_minor": 5
}
